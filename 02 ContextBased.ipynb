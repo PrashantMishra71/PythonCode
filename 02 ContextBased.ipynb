{
 "cells": [
  {
   "cell_type": "code",
   "execution_count": 31,
   "id": "887ef113-1049-41bb-92d5-6e2f30853359",
   "metadata": {},
   "outputs": [],
   "source": [
    "# Function to extract text from Excel\n",
    "def extract_text_from_pdf(pdf_path):\n",
    "    df = pd.read_excel(\"Sample.xlsx\")\n",
    "    return df.to_string(index = False)"
   ]
  },
  {
   "cell_type": "code",
   "execution_count": null,
   "id": "329fb593-09a0-461a-aa9e-aa9996d44358",
   "metadata": {},
   "outputs": [
    {
     "name": "stdin",
     "output_type": "stream",
     "text": [
      "Ask your question (or type 'exit' to quit):  names under the file\n"
     ]
    },
    {
     "name": "stdout",
     "output_type": "stream",
     "text": [
      "Response: The names under the file are Prashant, Pritam, Atul.\n"
     ]
    }
   ],
   "source": [
    "# Main Execution\n",
    "pdf_path = \"Sample.xlsx\"  # Replace with your PDF file path\n",
    "pdf_content = extract_text_from_pdf(pdf_path)\n",
    "\n",
    "if pdf_content:\n",
    "    while True:\n",
    "        user_query = input(\"Ask your question (or type 'exit' to quit): \")\n",
    "        if user_query.lower() == \"exit\":\n",
    "            break\n",
    "        response = query_pdf_content(pdf_content, user_query)\n",
    "        print(\"Response:\", response)\n",
    "else:\n",
    "    print(\"Could not extract content from the PDF.\")"
   ]
  },
  {
   "cell_type": "code",
   "execution_count": null,
   "id": "45b52959-1a83-40d5-9371-4ba13a22780f",
   "metadata": {},
   "outputs": [],
   "source": [
    "# Function to query the content\n",
    "def query_pdf_content(pdf_content, query):\n",
    "    prompt = f\"\"\"\n",
    "    You are a XLSX content assistant. The following text is extracted from a excel document:\n",
    "    ---\n",
    "    {pdf_content}\n",
    "    ---\n",
    "    Answer the user's query based on the above content. If the answer is not found in the text, reply with 'No information exists.'\n",
    "    \n",
    "    Query: {query}\n",
    "    \"\"\"\n",
    "    response = llm.invoke(prompt, max_tokens=150)\n",
    "    return response.content.strip()  # Accessing the content attribute and applying strip()"
   ]
  },
  {
   "cell_type": "code",
   "execution_count": 33,
   "id": "5b73e88d-0754-49e3-96e7-d3cf705d4af4",
   "metadata": {},
   "outputs": [],
   "source": [
    "from langchain_groq import ChatGroq\n",
    "import pandas as pd\n",
    "import openpyxl\n",
    "\n",
    "# Initialize the ChatGroq instance\n",
    "llm = ChatGroq(\n",
    "    model=\"mixtral-8x7b-32768\",\n",
    "    temperature=0.2,\n",
    "    groq_api_key=\"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\"\n",
    ")"
   ]
  },
  {
   "cell_type": "code",
   "execution_count": null,
   "id": "060a56d6-1b60-435c-822c-ab36122b32bc",
   "metadata": {},
   "outputs": [],
   "source": []
  }
 ],
 "metadata": {
  "kernelspec": {
   "display_name": "Python 3 (ipykernel)",
   "language": "python",
   "name": "python3"
  },
  "language_info": {
   "codemirror_mode": {
    "name": "ipython",
    "version": 3
   },
   "file_extension": ".py",
   "mimetype": "text/x-python",
   "name": "python",
   "nbconvert_exporter": "python",
   "pygments_lexer": "ipython3",
   "version": "3.13.2"
  }
 },
 "nbformat": 4,
 "nbformat_minor": 5
}
